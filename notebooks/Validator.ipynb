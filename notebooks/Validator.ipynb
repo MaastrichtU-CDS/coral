{
 "cells": [
  {
   "cell_type": "markdown",
   "metadata": {},
   "source": [
    "# SPARQL queries & tests"
   ]
  },
  {
   "cell_type": "markdown",
   "metadata": {},
   "source": [
    "## Database password\n",
    "Please fill in the database password below"
   ]
  },
  {
   "cell_type": "code",
   "execution_count": 1,
   "metadata": {},
   "outputs": [
    {
     "data": {
      "application/vnd.jupyter.widget-view+json": {
       "model_id": "a042bab2bf1f4bceb9e8f146ccd7acb8",
       "version_major": 2,
       "version_minor": 0
      },
      "text/plain": [
       "Password()"
      ]
     },
     "metadata": {},
     "output_type": "display_data"
    }
   ],
   "source": [
    "from __future__ import print_function\n",
    "import ipywidgets as widgets\n",
    "passwordField = widgets.Password(value=\"postgres\")\n",
    "passwordField"
   ]
  },
  {
   "cell_type": "code",
   "execution_count": 2,
   "metadata": {},
   "outputs": [],
   "source": [
    "from sqlalchemy import create_engine\n",
    "\n",
    "connectionString = \"postgresql://postgres:%s@postgresdb:5432/mydata\" % passwordField.value\n",
    "dbEngine = create_engine(connectionString)"
   ]
  },
  {
   "cell_type": "code",
   "execution_count": 7,
   "metadata": {},
   "outputs": [
    {
     "data": {
      "application/vnd.jupyter.widget-view+json": {
       "model_id": "84f07b14f9764d06bddfd8ff8295d552",
       "version_major": 2,
       "version_minor": 0
      },
      "text/plain": [
       "VkJveChjaGlsZHJlbj0oSEJveChjaGlsZHJlbj0oVGV4dGFyZWEodmFsdWU9dSJTRUxFQ1QgUGF0aWVudElEIGFzIGlkLCAgUk9VTkQoQ0FTVChBZ2UgYXMgZGVjaW1hbCksMCkgYXMgYWdlLCDigKY=\n"
      ]
     },
     "metadata": {},
     "output_type": "display_data"
    },
    {
     "name": "stdout",
     "output_type": "stream",
     "text": [
      "Update executed. Please load this page again to make sure changes have applied to the database\n"
     ]
    }
   ],
   "source": [
    "from r2rmlQueryEditor import R2RMLQueryEditor\n",
    "\n",
    "r2rmlEditor = R2RMLQueryEditor(\"http://graphdb:7200/repositories/r2rml\", dbEngine)\n",
    "widgets.VBox(r2rmlEditor.runInterface())"
   ]
  },
  {
   "cell_type": "code",
   "execution_count": 9,
   "metadata": {},
   "outputs": [
    {
     "name": "stdout",
     "output_type": "stream",
     "text": [
      "SQL Columns:  [u'id' u'age' u'sex' u'clinical_t' u'clinical_n' u'survival_time'\n",
      " u'vital_status' u'survival_2y']\n",
      "RDF Columns:  ['patient' 'age' 'sex' 'cT' 'cN' 'survival_2y']\n",
      "SQL Count:  10\n",
      "RDF Count:  10\n"
     ]
    }
   ],
   "source": [
    "r2rmlEditor.comparisonEngine.load('gender', sqlDateColumns=[], sparqlDateColumns=[])"
   ]
  },
  {
   "cell_type": "code",
   "execution_count": 10,
   "metadata": {},
   "outputs": [
    {
     "data": {
      "application/vnd.jupyter.widget-view+json": {
       "model_id": "38b07ed886ce414f9e8f7effc57a01cf",
       "version_major": 2,
       "version_minor": 0
      },
      "text/plain": [
       "aW50ZXJhY3RpdmUoY2hpbGRyZW49KERyb3Bkb3duKGRlc2NyaXB0aW9uPXUneFNRTCcsIG9wdGlvbnM9KHUnaWQnLCB1J2FnZScsIHUnc2V4JywgdSdjbGluaWNhbF90JywgdSdjbGluaWNhbF/igKY=\n"
      ]
     },
     "metadata": {},
     "output_type": "display_data"
    }
   ],
   "source": [
    "r2rmlEditor.comparisonEngine.interact(figsize=(18, 8))"
   ]
  },
  {
   "cell_type": "code",
   "execution_count": null,
   "metadata": {},
   "outputs": [],
   "source": []
  }
 ],
 "metadata": {
  "kernelspec": {
   "display_name": "Python 2",
   "language": "python",
   "name": "python2"
  },
  "language_info": {
   "codemirror_mode": {
    "name": "ipython",
    "version": 2
   },
   "file_extension": ".py",
   "mimetype": "text/x-python",
   "name": "python",
   "nbconvert_exporter": "python",
   "pygments_lexer": "ipython2",
   "version": "2.7.15"
  }
 },
 "nbformat": 4,
 "nbformat_minor": 2
}
