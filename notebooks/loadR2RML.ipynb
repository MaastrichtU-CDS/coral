{
 "cells": [
  {
   "cell_type": "markdown",
   "metadata": {},
   "source": [
    "# Import Mapping"
   ]
  },
  {
   "cell_type": "code",
   "execution_count": 17,
   "metadata": {},
   "outputs": [
    {
     "data": {
      "application/vnd.jupyter.widget-view+json": {
       "model_id": "8d410071a23046e696d8ce559b155a38",
       "version_major": 2,
       "version_minor": 0
      },
      "text/plain": [
       "VkJveChjaGlsZHJlbj0oVGV4dCh2YWx1ZT11J21hcHBpbmcudHRsJywgZGVzY3JpcHRpb249dSdVUkwgb2YgbWFwcGluZyBmaWxlIGxvY2F0aW9uOicsIHN0eWxlPURlc2NyaXB0aW9uU3R5bGXigKY=\n"
      ]
     },
     "metadata": {},
     "output_type": "display_data"
    }
   ],
   "source": [
    "import ipywidgets as widgets\n",
    "mappingBox = widgets.Text(value=\"mapping.ttl\", description=\"URL of mapping file location:\", style={\"description_width\": \"initial\"})\n",
    "rdfEndpointBox = widgets.Text(value=\"http://graphdb:7200/repositories/r2rml\", description=\"URL of RDF endpoint:\", style={\"description_width\": \"initial\"})\n",
    "widgets.VBox([mappingBox, rdfEndpointBox])"
   ]
  },
  {
   "cell_type": "markdown",
   "metadata": {},
   "source": [
    "## Insert mapping\n",
    "Execute the code below to insert the default mapping"
   ]
  },
  {
   "cell_type": "code",
   "execution_count": 18,
   "metadata": {},
   "outputs": [
    {
     "data": {
      "text/plain": [
       "u'http://graphdb:7200/repositories/r2rml'"
      ]
     },
     "execution_count": 18,
     "metadata": {},
     "output_type": "execute_result"
    }
   ],
   "source": [
    "rdfEndpointBox.value"
   ]
  },
  {
   "cell_type": "code",
   "execution_count": 19,
   "metadata": {},
   "outputs": [
    {
     "data": {
      "text/plain": [
       "u'mapping.ttl'"
      ]
     },
     "execution_count": 19,
     "metadata": {},
     "output_type": "execute_result"
    }
   ],
   "source": [
    "mappingBox.value"
   ]
  },
  {
   "cell_type": "code",
   "execution_count": 20,
   "metadata": {},
   "outputs": [
    {
     "name": "stdout",
     "output_type": "stream",
     "text": [
      "Mapping succesfully uploaded\n"
     ]
    }
   ],
   "source": [
    "from SPARQLWrapper import SPARQLWrapper, JSON\n",
    "import requests\n",
    "\n",
    "# drop all mappings\n",
    "endpoint = SPARQLWrapper(rdfEndpointBox.value + \"/statements\")\n",
    "endpoint.setQuery(\"DROP ALL;\")\n",
    "endpoint.method = \"POST\"\n",
    "endpoint.query()\n",
    "\n",
    "# Read RDF mapping file\n",
    "from rdflib import Graph, URIRef, Literal\n",
    "g = Graph()\n",
    "g.parse(mappingBox.value, format=\"n3\")\n",
    "rdfString = g.serialize(format='nt')\n",
    "\n",
    "# Create insert query\n",
    "insertQuery = \"INSERT { %s } WHERE { }\" % rdfString\n",
    "\n",
    "# Execute insert query\n",
    "endpoint = SPARQLWrapper(rdfEndpointBox.value + \"/statements\")\n",
    "endpoint.setQuery(insertQuery)\n",
    "endpoint.method = \"POST\"\n",
    "try:\n",
    "    endpoint.query()\n",
    "    print(\"Mapping succesfully uploaded\")\n",
    "except:\n",
    "    print(\"Something went wrong during upload.\")"
   ]
  },
  {
   "cell_type": "code",
   "execution_count": 1,
   "metadata": {},
   "outputs": [
    {
     "name": "stderr",
     "output_type": "stream",
     "text": [
      "INFO:rdflib:RDFLib Version: 4.2.1\n"
     ]
    }
   ],
   "source": [
    "import os\n",
    "from SPARQLWrapper import SPARQLWrapper\n",
    "from rdflib import Graph"
   ]
  },
  {
   "cell_type": "code",
   "execution_count": 2,
   "metadata": {},
   "outputs": [],
   "source": [
    "class ManageR2RML:\n",
    "    \"\"\" Management of RDF mappings\n",
    "    \"\"\"\n",
    "\n",
    "    def __init__(self, graphdb_base_url, r2rml_endpoint, mapping_file):\n",
    "        \"\"\" Initialisation method for ManageR2RML class\n",
    "\n",
    "        Parameters\n",
    "        ----------\n",
    "        graphdb_base_url : str\n",
    "            GraphDB endpoint\n",
    "        r2rml_endpoint : str\n",
    "            R2RML endpoint\n",
    "        mapping_file : str\n",
    "            Path to mapping file\n",
    "        \"\"\"\n",
    "        self.graphdb_base_url = graphdb_base_url\n",
    "        self.r2rml_endpoint = r2rml_endpoint\n",
    "        self.mapping_file = mapping_file\n",
    "\n",
    "    def drop_rdf_mappings(self):\n",
    "        \"\"\" Drop all RDF mappings\n",
    "        \"\"\"\n",
    "        try:\n",
    "            url = os.path.join(self.graphdb_base_url, self.r2rml_endpoint)\n",
    "            endpoint = SPARQLWrapper(url)\n",
    "            endpoint.setQuery('DROP ALL;')\n",
    "            endpoint.method = 'POST'\n",
    "            endpoint.query()\n",
    "        except Exception as e:\n",
    "            raise Exception('Unable to drop RDF mappings: {e}')\n",
    "\n",
    "    def load_rdf_mapping(self):\n",
    "        \"\"\" Load RDF mapping file\n",
    "        \"\"\"\n",
    "        try:\n",
    "            g = Graph()\n",
    "            g.parse(self.mapping_file, format='n3')\n",
    "            self.rdf_string = g.serialize(format='nt')\n",
    "        except Exception as e:\n",
    "            raise Exception('Unable to load RDF mapping: {e}')\n",
    "\n",
    "    def insert_rdf_mapping(self):\n",
    "        \"\"\" Insert RDF mapping to R2RML endpoint\n",
    "        \"\"\"\n",
    "        try:\n",
    "            url = os.path.join(self.graphdb_base_url, self.r2rml_endpoint)\n",
    "            endpoint = SPARQLWrapper(url)\n",
    "            insert_query = 'INSERT { %s } WHERE { }' % self.rdf_string\n",
    "            endpoint.setQuery(insert_query)\n",
    "            endpoint.method = 'POST'\n",
    "            endpoint.query()\n",
    "        except Exception as e:\n",
    "            raise Exception('Unable to insert RDF mapping: {e}')"
   ]
  },
  {
   "cell_type": "code",
   "execution_count": 7,
   "metadata": {},
   "outputs": [],
   "source": [
    "graphdb_base_url = 'http://graphdb:7200/repositories/'\n",
    "r2rml_endpoint = os.path.join('r2rml', 'statements')\n",
    "mapping_file = 'mapping_coral.ttl'"
   ]
  },
  {
   "cell_type": "code",
   "execution_count": 8,
   "metadata": {},
   "outputs": [],
   "source": [
    "r2rml = ManageR2RML(\n",
    "    graphdb_base_url=graphdb_base_url, r2rml_endpoint=r2rml_endpoint,\n",
    "    mapping_file=mapping_file\n",
    ")\n",
    "r2rml.drop_rdf_mappings()"
   ]
  },
  {
   "cell_type": "code",
   "execution_count": 9,
   "metadata": {},
   "outputs": [],
   "source": [
    "r2rml.load_rdf_mapping()"
   ]
  },
  {
   "cell_type": "code",
   "execution_count": 10,
   "metadata": {},
   "outputs": [],
   "source": [
    "r2rml.insert_rdf_mapping()"
   ]
  },
  {
   "cell_type": "code",
   "execution_count": null,
   "metadata": {},
   "outputs": [],
   "source": []
  },
  {
   "cell_type": "code",
   "execution_count": null,
   "metadata": {},
   "outputs": [],
   "source": []
  },
  {
   "cell_type": "code",
   "execution_count": null,
   "metadata": {},
   "outputs": [],
   "source": []
  },
  {
   "cell_type": "code",
   "execution_count": null,
   "metadata": {},
   "outputs": [],
   "source": []
  },
  {
   "cell_type": "code",
   "execution_count": null,
   "metadata": {},
   "outputs": [],
   "source": []
  },
  {
   "cell_type": "code",
   "execution_count": null,
   "metadata": {},
   "outputs": [],
   "source": []
  },
  {
   "cell_type": "code",
   "execution_count": null,
   "metadata": {},
   "outputs": [],
   "source": []
  },
  {
   "cell_type": "code",
   "execution_count": null,
   "metadata": {},
   "outputs": [],
   "source": []
  },
  {
   "cell_type": "code",
   "execution_count": null,
   "metadata": {},
   "outputs": [],
   "source": []
  }
 ],
 "metadata": {
  "kernelspec": {
   "display_name": "Python 2",
   "language": "python",
   "name": "python2"
  },
  "language_info": {
   "codemirror_mode": {
    "name": "ipython",
    "version": 2
   },
   "file_extension": ".py",
   "mimetype": "text/x-python",
   "name": "python",
   "nbconvert_exporter": "python",
   "pygments_lexer": "ipython2",
   "version": "2.7.15"
  }
 },
 "nbformat": 4,
 "nbformat_minor": 2
}
