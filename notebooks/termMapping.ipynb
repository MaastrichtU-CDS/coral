{
 "cells": [
  {
   "cell_type": "markdown",
   "metadata": {},
   "source": [
    "# Terminology mapping"
   ]
  },
  {
   "cell_type": "code",
   "execution_count": 1,
   "metadata": {
    "scrolled": true
   },
   "outputs": [
    {
     "name": "stderr",
     "output_type": "stream",
     "text": [
      "INFO:rdflib:RDFLib Version: 4.2.1\n"
     ]
    }
   ],
   "source": [
    "#initialize terminology mapping service\n",
    "from src.TermMappingService import TermMappingService\n",
    "import ipywidgets as widgets\n",
    "tms = TermMappingService(\"http://graphdb:7200/repositories/data\",\n",
    "                         \"https://raw.githubusercontent.com/RadiationOncologyOntology/ROO/d017a652c33ba7c90bf1768a508aef14fd52ece3/owl/ROO.owl\")"
   ]
  },
  {
   "cell_type": "markdown",
   "metadata": {},
   "source": [
    "## Unmapped local terms"
   ]
  },
  {
   "cell_type": "code",
   "execution_count": 2,
   "metadata": {
    "scrolled": true
   },
   "outputs": [
    {
     "data": {
      "application/vnd.jupyter.widget-view+json": {
       "model_id": "7182ae0f031645049c111712b03263dd",
       "version_major": 2,
       "version_minor": 0
      },
      "text/plain": [
       "VkJveChjaGlsZHJlbj0oSEJveChjaGlsZHJlbj0oVGV4dCh2YWx1ZT11JzIwMTItMDEtMDEnLCBkZXNjcmlwdGlvbj11J0RhdGUnLCBkaXNhYmxlZD1UcnVlLCBzdHlsZT1EZXNjcmlwdGlvblPigKY=\n"
      ]
     },
     "metadata": {},
     "output_type": "display_data"
    },
    {
     "name": "stdout",
     "output_type": "stream",
     "text": [
      "Mapping saved, please reload the page to see the effect.\n",
      "Mapping saved, please reload the page to see the effect.\n",
      "Mapping saved, please reload the page to see the effect.\n",
      "Mapping saved, please reload the page to see the effect.\n",
      "Mapping saved, please reload the page to see the effect.\n",
      "Mapping saved, please reload the page to see the effect.\n",
      "Mapping saved, please reload the page to see the effect.\n",
      "Mapping saved, please reload the page to see the effect.\n",
      "Mapping saved, please reload the page to see the effect.\n",
      "Mapping saved, please reload the page to see the effect.\n",
      "Mapping saved, please reload the page to see the effect.\n",
      "Mapping saved, please reload the page to see the effect.\n",
      "Mapping saved, please reload the page to see the effect.\n",
      "Mapping saved, please reload the page to see the effect.\n",
      "Mapping saved, please reload the page to see the effect.\n",
      "Mapping saved, please reload the page to see the effect.\n",
      "Mapping saved, please reload the page to see the effect.\n",
      "Mapping saved, please reload the page to see the effect.\n",
      "Mapping saved, please reload the page to see the effect.\n",
      "Mapping saved, please reload the page to see the effect.\n",
      "Mapping saved, please reload the page to see the effect.\n",
      "Mapping saved, please reload the page to see the effect.\n",
      "Mapping saved, please reload the page to see the effect.\n"
     ]
    }
   ],
   "source": [
    "widgets.VBox(tms.initInterface())"
   ]
  },
  {
   "cell_type": "markdown",
   "metadata": {},
   "source": [
    "## Mapped local terms"
   ]
  },
  {
   "cell_type": "code",
   "execution_count": 3,
   "metadata": {},
   "outputs": [
    {
     "data": {
      "application/vnd.jupyter.widget-view+json": {
       "model_id": "55ea94efc645404e842b20f1438e8eb5",
       "version_major": 2,
       "version_minor": 0
      },
      "text/plain": [
       "VkJveChjaGlsZHJlbj0oSEJveChjaGlsZHJlbj0oVGV4dCh2YWx1ZT11J2FsaXZlJywgZGVzY3JpcHRpb249dSdWaXRhbCBTdGF0dXM6JywgZGlzYWJsZWQ9VHJ1ZSwgc3R5bGU9RGVzY3JpcHTigKY=\n"
      ]
     },
     "metadata": {},
     "output_type": "display_data"
    }
   ],
   "source": [
    "widgets.VBox(tms.initMappedValues())"
   ]
  },
  {
   "cell_type": "code",
   "execution_count": null,
   "metadata": {},
   "outputs": [],
   "source": []
  }
 ],
 "metadata": {
  "kernelspec": {
   "display_name": "Python 2",
   "language": "python",
   "name": "python2"
  },
  "language_info": {
   "codemirror_mode": {
    "name": "ipython",
    "version": 2
   },
   "file_extension": ".py",
   "mimetype": "text/x-python",
   "name": "python",
   "nbconvert_exporter": "python",
   "pygments_lexer": "ipython2",
   "version": "2.7.15"
  }
 },
 "nbformat": 4,
 "nbformat_minor": 2
}
