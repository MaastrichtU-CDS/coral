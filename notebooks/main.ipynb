{
 "cells": [
  {
   "cell_type": "code",
   "execution_count": 1,
   "metadata": {},
   "outputs": [
    {
     "name": "stderr",
     "output_type": "stream",
     "text": [
      "INFO:rdflib:RDFLib Version: 4.2.1\n"
     ]
    }
   ],
   "source": [
    "import os\n",
    "from src.manage_db import ManageDB\n",
    "from src.manage_r2rml import ManageR2RML"
   ]
  },
  {
   "cell_type": "code",
   "execution_count": 2,
   "metadata": {},
   "outputs": [],
   "source": [
    "# Relational database params\n",
    "dbname = 'mydata'\n",
    "host = 'postgresdb'\n",
    "port = 5432\n",
    "user = 'postgres'\n",
    "password = 'postgres'\n",
    "table = 'CORALDATA'\n",
    "columns = {\n",
    "    'id': 'text PRIMARY KEY',\n",
    "    't': 'text',\n",
    "    'n': 'text',\n",
    "    'm': 'text',\n",
    "    'stage': 'text',\n",
    "    'date_of_diagnosis': 'text',\n",
    "    'date_of_fu': 'text',\n",
    "    'vital_status': 'text'\n",
    "}\n",
    "file_path = 'data/20k_sample_data.csv'"
   ]
  },
  {
   "cell_type": "code",
   "execution_count": 3,
   "metadata": {},
   "outputs": [],
   "source": [
    "# Create database\n",
    "postgres = ManageDB(\n",
    "    host=host, port=port, user=user, password=password\n",
    ")\n",
    "postgres.connect()\n",
    "postgres.create_db(dbname=dbname)\n",
    "postgres.close()"
   ]
  },
  {
   "cell_type": "code",
   "execution_count": 4,
   "metadata": {},
   "outputs": [
    {
     "name": "stdout",
     "output_type": "stream",
     "text": [
      "('T1', '2012-01-01', 'dead', '2015-01-01', 'I', 'M0', '1', 'N0')\n",
      "('T2', '2013-03-05', 'dead', '2015-01-01', 'IA', 'M1', '2', 'N1')\n",
      "('T3', '2014-04-16', 'alive', '2018-01-01', 'IB', 'M0', '3', 'N2')\n",
      "('T4', '2015-05-06', 'alive', '2016-01-01', 'II', 'M1c', '4', 'N3')\n",
      "('Tx', '2012-01-01', 'dead', '2015-01-01', 'IIA', 'Mx', '5', 'Nx')\n",
      "('Tis', '2012-01-01', 'dead', '2015-01-01', 'IIB', 'M1a', '6', 'Nx')\n",
      "('T1mi', '2012-01-01', 'dead', '2015-01-01', 'III', 'M1b', '7', 'N0')\n",
      "('T1a', '2012-01-01', 'dead', '2015-01-01', 'IIIA', 'Mx', '8', 'N0')\n",
      "('T1b', '2012-01-01', 'dead', '2015-01-01', 'IIIB', 'Mx', '9', 'N0')\n",
      "('Tis', '2012-01-01', 'dead', '2015-01-01', '0', 'Mx', '10', 'N0')\n",
      "Inserted data to postgres database\n"
     ]
    }
   ],
   "source": [
    "# Insert data to postgres database\n",
    "postgres = ManageDB(\n",
    "    host=host, port=port, user=user, password=password\n",
    ")\n",
    "postgres.connect(dbname=dbname)\n",
    "postgres.create_table(table=table, columns=columns)\n",
    "df = postgres.prepare_data(file_path=file_path, columns=columns.keys())\n",
    "postgres.insert_data(table=table, columns=df.columns, df=df)\n",
    "postgres.show_table(table=table)\n",
    "postgres.close()\n",
    "print('Inserted data to postgres database')"
   ]
  },
  {
   "cell_type": "code",
   "execution_count": 5,
   "metadata": {},
   "outputs": [
    {
     "name": "stdout",
     "output_type": "stream",
     "text": [
      "Loaded RDF mapping\n"
     ]
    }
   ],
   "source": [
    "# Load RDF mapping file\n",
    "graphdb_base_url = 'http://graphdb:7200/repositories/'\n",
    "r2rml_endpoint = os.path.join('r2rml', 'statements')\n",
    "mapping_file = 'data/mapping.ttl'\n",
    "r2rml = ManageR2RML(\n",
    "    graphdb_base_url=graphdb_base_url, r2rml_endpoint=r2rml_endpoint,\n",
    "    mapping_file=mapping_file\n",
    ")\n",
    "r2rml.drop_rdf_mappings()\n",
    "r2rml.load_rdf_mapping()\n",
    "r2rml.insert_rdf_mapping()\n",
    "print('Loaded RDF mapping')"
   ]
  },
  {
   "cell_type": "code",
   "execution_count": null,
   "metadata": {},
   "outputs": [],
   "source": []
  },
  {
   "cell_type": "code",
   "execution_count": null,
   "metadata": {},
   "outputs": [],
   "source": []
  }
 ],
 "metadata": {
  "kernelspec": {
   "display_name": "Python 2",
   "language": "python",
   "name": "python2"
  },
  "language_info": {
   "codemirror_mode": {
    "name": "ipython",
    "version": 2
   },
   "file_extension": ".py",
   "mimetype": "text/x-python",
   "name": "python",
   "nbconvert_exporter": "python",
   "pygments_lexer": "ipython2",
   "version": "2.7.15"
  }
 },
 "nbformat": 4,
 "nbformat_minor": 2
}
