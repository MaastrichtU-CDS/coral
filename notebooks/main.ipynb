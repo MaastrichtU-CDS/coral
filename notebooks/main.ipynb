{
 "cells": [
  {
   "cell_type": "code",
   "execution_count": 1,
   "metadata": {},
   "outputs": [
    {
     "ename": "SyntaxError",
     "evalue": "invalid syntax (manage_db.py, line 51)",
     "output_type": "error",
     "traceback": [
      "\u001b[0;36m  File \u001b[0;32m\"src/manage_db.py\"\u001b[0;36m, line \u001b[0;32m51\u001b[0m\n\u001b[0;31m    raise Exception(f'Unable to connect to the database: {e}')\u001b[0m\n\u001b[0m                                                            ^\u001b[0m\n\u001b[0;31mSyntaxError\u001b[0m\u001b[0;31m:\u001b[0m invalid syntax\n"
     ]
    }
   ],
   "source": [
    "import os\n",
    "from src.manage_db import ManageDB\n",
    "from src.manage_r2rml import ManageR2RML"
   ]
  },
  {
   "cell_type": "code",
   "execution_count": null,
   "metadata": {},
   "outputs": [],
   "source": [
    "# Relational database params\n",
    "dbname = 'mydata'\n",
    "host = 'postgresdb'\n",
    "port = 5432\n",
    "user = 'postgres'\n",
    "password = 'postgres'\n",
    "table = 'CORAL'\n",
    "columns = {\n",
    "    'id': 'text PRIMARY KEY',\n",
    "    't': 'text',\n",
    "    'n': 'text',\n",
    "    'm': 'text',\n",
    "    'stage': 'text',\n",
    "    'date_of_diagnosis': 'text',\n",
    "    'date_of_fu': 'text',\n",
    "    'vital_status': 'text'\n",
    "}\n",
    "file_path = '20k_sample_data.csv'"
   ]
  },
  {
   "cell_type": "code",
   "execution_count": null,
   "metadata": {},
   "outputs": [],
   "source": [
    "# Insert data to postgres database\n",
    "postgres = ManageDB(\n",
    "    dbname=dbname, host=host, port=port, user=user, password=password\n",
    ")\n",
    "postgres.connect()\n",
    "postgres.create_table(table=table, columns=columns)\n",
    "df = postgres.prepare_data(file_path=file_path, columns=columns.keys())\n",
    "postgres.insert_data(table=table, columns=df.columns, df=df)\n",
    "postgres.show_table(table=table)\n",
    "postgres.close()\n",
    "print(f'Inserted data to postgres database')"
   ]
  },
  {
   "cell_type": "code",
   "execution_count": null,
   "metadata": {},
   "outputs": [],
   "source": [
    "# Load RDF mapping file\n",
    "graphdb_base_url = 'http://graphdb:7200/repositories/'\n",
    "r2rml_endpoint = os.path.join('r2rml', 'statements')\n",
    "mapping_file = 'data/mapping.ttl'\n",
    "r2rml = ManageR2RML(\n",
    "    graphdb_base_url=graphdb_base_url, r2rml_endpoint=r2rml_endpoint,\n",
    "    mapping_file=mapping_file\n",
    ")\n",
    "r2rml.drop_rdf_mappings()\n",
    "r2rml.load_rdf_mapping()\n",
    "r2rml.insert_rdf_mapping()\n",
    "print(f'Loaded RDF mapping')"
   ]
  },
  {
   "cell_type": "code",
   "execution_count": null,
   "metadata": {},
   "outputs": [],
   "source": []
  },
  {
   "cell_type": "code",
   "execution_count": null,
   "metadata": {},
   "outputs": [],
   "source": []
  }
 ],
 "metadata": {
  "kernelspec": {
   "display_name": "Python 2",
   "language": "python",
   "name": "python2"
  },
  "language_info": {
   "codemirror_mode": {
    "name": "ipython",
    "version": 2
   },
   "file_extension": ".py",
   "mimetype": "text/x-python",
   "name": "python",
   "nbconvert_exporter": "python",
   "pygments_lexer": "ipython2",
   "version": "2.7.15"
  }
 },
 "nbformat": 4,
 "nbformat_minor": 2
}
